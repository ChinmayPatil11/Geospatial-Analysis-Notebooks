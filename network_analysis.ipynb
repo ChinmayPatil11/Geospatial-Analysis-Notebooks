{
  "nbformat": 4,
  "nbformat_minor": 0,
  "metadata": {
    "colab": {
      "provenance": []
    },
    "kernelspec": {
      "name": "python3",
      "display_name": "Python 3"
    },
    "language_info": {
      "name": "python"
    }
  },
  "cells": [
    {
      "cell_type": "markdown",
      "source": [
        "# Case Study of Mumbai's Bus Public Transport System\n",
        "\n",
        "Mumbai's bus transport system is mainly controlled by Brihanmumbai Electric Supply and Transport (BEST). It has a fleet of single, double decker buses and air-conditioned mini buses. BEST runs their buses all over Mumbai and outskirts like Navi Mumbai, Thane and Mira-Bhayandar. There are easily more than 300 routes and more than a thousand bus stops where these buses halt, thus creating a huge network of bus transport. This is a small analysis of the network.  \n",
        "The data used for the study is scraped from various sources on internet which provided information regarding the bus start and end points, distances and times. With the help of the data we create a graph using *networkx* library and do some basic network analysis of the created Graph.  \n",
        "NOTE: Some of the bus routes might be changed or stopped altogether based on availability and public response."
      ],
      "metadata": {
        "id": "zav9l94mQznH"
      }
    },
    {
      "cell_type": "markdown",
      "source": [
        "### Importing Libraries"
      ],
      "metadata": {
        "id": "4gQrEs3ovJ3j"
      }
    },
    {
      "cell_type": "code",
      "source": [
        "import numpy as np\n",
        "import pandas as pd\n",
        "import networkx as nx\n",
        "import matplotlib.pyplot as plt\n",
        "import seaborn as sns"
      ],
      "metadata": {
        "id": "BgFshitkAQl2"
      },
      "execution_count": 1,
      "outputs": []
    },
    {
      "cell_type": "code",
      "source": [
        "from google.colab import drive\n",
        "drive.mount('/content/drive')"
      ],
      "metadata": {
        "colab": {
          "base_uri": "https://localhost:8080/"
        },
        "id": "HpfJXGkbAQig",
        "outputId": "6377e439-f31d-4f05-cea9-7894cb4c759c"
      },
      "execution_count": 2,
      "outputs": [
        {
          "output_type": "stream",
          "name": "stdout",
          "text": [
            "Mounted at /content/drive\n"
          ]
        }
      ]
    },
    {
      "cell_type": "markdown",
      "source": [
        "### Loading Data"
      ],
      "metadata": {
        "id": "TvnhTl6UvPWD"
      }
    },
    {
      "cell_type": "code",
      "source": [
        "routes = pd.read_csv('/content/drive/MyDrive/routes.csv')\n",
        "routes.head()"
      ],
      "metadata": {
        "id": "uiNJgkVzAQf3",
        "colab": {
          "base_uri": "https://localhost:8080/",
          "height": 354
        },
        "outputId": "11145d63-cf39-42bd-f82e-45dca3ee8536"
      },
      "execution_count": 3,
      "outputs": [
        {
          "output_type": "execute_result",
          "data": {
            "text/plain": [
              "              Starting From                       Destination  Total Stops  \\\n",
              "0               R C Church.   Bandra Reclamation Bus Station.         44.0   \n",
              "1       Colaba Bus Station.                  Santacruz Depot.         33.0   \n",
              "2            Hutatma Chowk.        Ghatkopar Depot Caseurina.         53.0   \n",
              "3   Ahilyabai Holkar Chowk.           Ahilyabai Holkar Chowk.         11.0   \n",
              "4             Colaba Depot.                       Walkeshwar.         26.0   \n",
              "\n",
              "           Travel Time Route Distance (Km)  \\\n",
              "0   1 Hour 40 Minutes.               25.9.   \n",
              "1   1 Hour 16 Minutes.                 NA.   \n",
              "2    1 Hour 8 Minutes.               26.1.   \n",
              "3          41 Minutes.                3.3.   \n",
              "4          51 Minutes.                9.9.   \n",
              "\n",
              "                                Start Timings from A  \\\n",
              "0   07:55, 08:17, 08:39, 09:01, 09:23, 09:45, 10:...   \n",
              "1                                                NA    \n",
              "2   08:03, 15:15, 15:57, 17:29, 18:16, 19:02, 19:...   \n",
              "3   08:30, 08:36, 08:42, 08:47, 08:51, 08:54, 08:...   \n",
              "4   06:45, 07:35, 08:06, 08:37, 09:08, 09:45, 10:...   \n",
              "\n",
              "                                Start Timings from B  \\\n",
              "0   06:30, 06:48, 07:06, 07:24, 07:42, 08:00, 08:...   \n",
              "1                                     Not Available    \n",
              "2   07:00, 07:32, 08:05, 08:37, 09:10, 09:42, 17:...   \n",
              "3                                                NaN   \n",
              "4   06:50, 07:20, 07:50, 08:20, 08:54, 09:28, 09:...   \n",
              "\n",
              "                                               Stops Bus number  \n",
              "0   R C Church, Ins Ashwini Hospital, Pilot Bunde...         1   \n",
              "1   Colaba Bus Station, Sasoon Dock, Strand Cinem...     1 LTD   \n",
              "2   Hutatma Chowk, V B Phadke Chk Metro Dhobi Tal...    10 LTD   \n",
              "3   Ahilyabai Holkar Chowk, Petroleum House, Jeev...       100   \n",
              "4   Colaba Depot, Dr S P Mukherji Chowk Museum, H...       101   "
            ],
            "text/html": [
              "\n",
              "  <div id=\"df-e28c07d4-0d3a-4c22-9e99-ba76fab79594\">\n",
              "    <div class=\"colab-df-container\">\n",
              "      <div>\n",
              "<style scoped>\n",
              "    .dataframe tbody tr th:only-of-type {\n",
              "        vertical-align: middle;\n",
              "    }\n",
              "\n",
              "    .dataframe tbody tr th {\n",
              "        vertical-align: top;\n",
              "    }\n",
              "\n",
              "    .dataframe thead th {\n",
              "        text-align: right;\n",
              "    }\n",
              "</style>\n",
              "<table border=\"1\" class=\"dataframe\">\n",
              "  <thead>\n",
              "    <tr style=\"text-align: right;\">\n",
              "      <th></th>\n",
              "      <th>Starting From</th>\n",
              "      <th>Destination</th>\n",
              "      <th>Total Stops</th>\n",
              "      <th>Travel Time</th>\n",
              "      <th>Route Distance (Km)</th>\n",
              "      <th>Start Timings from A</th>\n",
              "      <th>Start Timings from B</th>\n",
              "      <th>Stops</th>\n",
              "      <th>Bus number</th>\n",
              "    </tr>\n",
              "  </thead>\n",
              "  <tbody>\n",
              "    <tr>\n",
              "      <th>0</th>\n",
              "      <td>R C Church.</td>\n",
              "      <td>Bandra Reclamation Bus Station.</td>\n",
              "      <td>44.0</td>\n",
              "      <td>1 Hour 40 Minutes.</td>\n",
              "      <td>25.9.</td>\n",
              "      <td>07:55, 08:17, 08:39, 09:01, 09:23, 09:45, 10:...</td>\n",
              "      <td>06:30, 06:48, 07:06, 07:24, 07:42, 08:00, 08:...</td>\n",
              "      <td>R C Church, Ins Ashwini Hospital, Pilot Bunde...</td>\n",
              "      <td>1</td>\n",
              "    </tr>\n",
              "    <tr>\n",
              "      <th>1</th>\n",
              "      <td>Colaba Bus Station.</td>\n",
              "      <td>Santacruz Depot.</td>\n",
              "      <td>33.0</td>\n",
              "      <td>1 Hour 16 Minutes.</td>\n",
              "      <td>NA.</td>\n",
              "      <td>NA</td>\n",
              "      <td>Not Available</td>\n",
              "      <td>Colaba Bus Station, Sasoon Dock, Strand Cinem...</td>\n",
              "      <td>1 LTD</td>\n",
              "    </tr>\n",
              "    <tr>\n",
              "      <th>2</th>\n",
              "      <td>Hutatma Chowk.</td>\n",
              "      <td>Ghatkopar Depot Caseurina.</td>\n",
              "      <td>53.0</td>\n",
              "      <td>1 Hour 8 Minutes.</td>\n",
              "      <td>26.1.</td>\n",
              "      <td>08:03, 15:15, 15:57, 17:29, 18:16, 19:02, 19:...</td>\n",
              "      <td>07:00, 07:32, 08:05, 08:37, 09:10, 09:42, 17:...</td>\n",
              "      <td>Hutatma Chowk, V B Phadke Chk Metro Dhobi Tal...</td>\n",
              "      <td>10 LTD</td>\n",
              "    </tr>\n",
              "    <tr>\n",
              "      <th>3</th>\n",
              "      <td>Ahilyabai Holkar Chowk.</td>\n",
              "      <td>Ahilyabai Holkar Chowk.</td>\n",
              "      <td>11.0</td>\n",
              "      <td>41 Minutes.</td>\n",
              "      <td>3.3.</td>\n",
              "      <td>08:30, 08:36, 08:42, 08:47, 08:51, 08:54, 08:...</td>\n",
              "      <td>NaN</td>\n",
              "      <td>Ahilyabai Holkar Chowk, Petroleum House, Jeev...</td>\n",
              "      <td>100</td>\n",
              "    </tr>\n",
              "    <tr>\n",
              "      <th>4</th>\n",
              "      <td>Colaba Depot.</td>\n",
              "      <td>Walkeshwar.</td>\n",
              "      <td>26.0</td>\n",
              "      <td>51 Minutes.</td>\n",
              "      <td>9.9.</td>\n",
              "      <td>06:45, 07:35, 08:06, 08:37, 09:08, 09:45, 10:...</td>\n",
              "      <td>06:50, 07:20, 07:50, 08:20, 08:54, 09:28, 09:...</td>\n",
              "      <td>Colaba Depot, Dr S P Mukherji Chowk Museum, H...</td>\n",
              "      <td>101</td>\n",
              "    </tr>\n",
              "  </tbody>\n",
              "</table>\n",
              "</div>\n",
              "      <button class=\"colab-df-convert\" onclick=\"convertToInteractive('df-e28c07d4-0d3a-4c22-9e99-ba76fab79594')\"\n",
              "              title=\"Convert this dataframe to an interactive table.\"\n",
              "              style=\"display:none;\">\n",
              "        \n",
              "  <svg xmlns=\"http://www.w3.org/2000/svg\" height=\"24px\"viewBox=\"0 0 24 24\"\n",
              "       width=\"24px\">\n",
              "    <path d=\"M0 0h24v24H0V0z\" fill=\"none\"/>\n",
              "    <path d=\"M18.56 5.44l.94 2.06.94-2.06 2.06-.94-2.06-.94-.94-2.06-.94 2.06-2.06.94zm-11 1L8.5 8.5l.94-2.06 2.06-.94-2.06-.94L8.5 2.5l-.94 2.06-2.06.94zm10 10l.94 2.06.94-2.06 2.06-.94-2.06-.94-.94-2.06-.94 2.06-2.06.94z\"/><path d=\"M17.41 7.96l-1.37-1.37c-.4-.4-.92-.59-1.43-.59-.52 0-1.04.2-1.43.59L10.3 9.45l-7.72 7.72c-.78.78-.78 2.05 0 2.83L4 21.41c.39.39.9.59 1.41.59.51 0 1.02-.2 1.41-.59l7.78-7.78 2.81-2.81c.8-.78.8-2.07 0-2.86zM5.41 20L4 18.59l7.72-7.72 1.47 1.35L5.41 20z\"/>\n",
              "  </svg>\n",
              "      </button>\n",
              "      \n",
              "  <style>\n",
              "    .colab-df-container {\n",
              "      display:flex;\n",
              "      flex-wrap:wrap;\n",
              "      gap: 12px;\n",
              "    }\n",
              "\n",
              "    .colab-df-convert {\n",
              "      background-color: #E8F0FE;\n",
              "      border: none;\n",
              "      border-radius: 50%;\n",
              "      cursor: pointer;\n",
              "      display: none;\n",
              "      fill: #1967D2;\n",
              "      height: 32px;\n",
              "      padding: 0 0 0 0;\n",
              "      width: 32px;\n",
              "    }\n",
              "\n",
              "    .colab-df-convert:hover {\n",
              "      background-color: #E2EBFA;\n",
              "      box-shadow: 0px 1px 2px rgba(60, 64, 67, 0.3), 0px 1px 3px 1px rgba(60, 64, 67, 0.15);\n",
              "      fill: #174EA6;\n",
              "    }\n",
              "\n",
              "    [theme=dark] .colab-df-convert {\n",
              "      background-color: #3B4455;\n",
              "      fill: #D2E3FC;\n",
              "    }\n",
              "\n",
              "    [theme=dark] .colab-df-convert:hover {\n",
              "      background-color: #434B5C;\n",
              "      box-shadow: 0px 1px 3px 1px rgba(0, 0, 0, 0.15);\n",
              "      filter: drop-shadow(0px 1px 2px rgba(0, 0, 0, 0.3));\n",
              "      fill: #FFFFFF;\n",
              "    }\n",
              "  </style>\n",
              "\n",
              "      <script>\n",
              "        const buttonEl =\n",
              "          document.querySelector('#df-e28c07d4-0d3a-4c22-9e99-ba76fab79594 button.colab-df-convert');\n",
              "        buttonEl.style.display =\n",
              "          google.colab.kernel.accessAllowed ? 'block' : 'none';\n",
              "\n",
              "        async function convertToInteractive(key) {\n",
              "          const element = document.querySelector('#df-e28c07d4-0d3a-4c22-9e99-ba76fab79594');\n",
              "          const dataTable =\n",
              "            await google.colab.kernel.invokeFunction('convertToInteractive',\n",
              "                                                     [key], {});\n",
              "          if (!dataTable) return;\n",
              "\n",
              "          const docLinkHtml = 'Like what you see? Visit the ' +\n",
              "            '<a target=\"_blank\" href=https://colab.research.google.com/notebooks/data_table.ipynb>data table notebook</a>'\n",
              "            + ' to learn more about interactive tables.';\n",
              "          element.innerHTML = '';\n",
              "          dataTable['output_type'] = 'display_data';\n",
              "          await google.colab.output.renderOutput(dataTable, element);\n",
              "          const docLink = document.createElement('div');\n",
              "          docLink.innerHTML = docLinkHtml;\n",
              "          element.appendChild(docLink);\n",
              "        }\n",
              "      </script>\n",
              "    </div>\n",
              "  </div>\n",
              "  "
            ]
          },
          "metadata": {},
          "execution_count": 3
        }
      ]
    },
    {
      "cell_type": "markdown",
      "source": [
        "This is the scraped data saved in a csv file for ease of use. A simple description of the features in table are as follows  \n",
        "**Starting From**: Source of the bus  \n",
        "**Destination**: Upto where is the bus going  \n",
        "**Total Stops**: Number of stops the bus takes between the source and destination  \n",
        "**Travel Time**: Total time taken by the bus to reach from source to the destination  \n",
        "**Route Distance (Km)**: Total Distance covered by the bus over the route  \n",
        "**Start Timings from A**: The times at which the bus starts journey from the source to destination  \n",
        "**Start Timings from B**: The times at which the bus starts journey from the destination to the source  \n",
        "**Stops**: Name of the stops taken between the source and destination  \n",
        "**Bus number**: Unique identifier for every route by which the travel destination can be recognized  "
      ],
      "metadata": {
        "id": "Hl4gG-eNvWq9"
      }
    },
    {
      "cell_type": "markdown",
      "source": [
        "### Data Preprocessing"
      ],
      "metadata": {
        "id": "gPx4xjaUtZR3"
      }
    },
    {
      "cell_type": "code",
      "source": [
        "routes['Stops'] = routes['Stops'].str.split(',')\n",
        "routes['Route Distance (Km)'] = routes['Route Distance (Km)'].apply(lambda x: x[:-1])\n",
        "routes['Route Distance (Km)'] = routes['Route Distance (Km)'].replace(' NA',np.nan)\n",
        "routes['Route Distance (Km)'] = routes['Route Distance (Km)'].astype(float)\n",
        "routes['Total Stops'] = routes['Total Stops'].astype(int)\n",
        "routes['Starting From'] = routes['Starting From'].apply(lambda x: x[:-1])\n",
        "routes['Destination'] = routes['Destination'].apply(lambda x: x[:-1])\n",
        "routes['Travel Time'] = routes['Travel Time'].apply(lambda x: x[:-1])\n",
        "routes['Starting From'] = routes['Starting From'].str.lstrip()\n",
        "routes['Destination'] = routes['Destination'].str.lstrip()\n",
        "def strip_spaces(lst):\n",
        "  final = []\n",
        "  for i in lst:\n",
        "    final.append(i.lstrip(' '))\n",
        "  return final\n",
        "\n",
        "routes['Stops'] = routes['Stops'].apply(lambda x: strip_spaces(x))\n",
        "routes.head()"
      ],
      "metadata": {
        "colab": {
          "base_uri": "https://localhost:8080/",
          "height": 354
        },
        "id": "IIpFFIIKAQcV",
        "outputId": "55ee9a25-8748-44b7-b5c3-7890cc7a76b3"
      },
      "execution_count": 4,
      "outputs": [
        {
          "output_type": "execute_result",
          "data": {
            "text/plain": [
              "            Starting From                     Destination  Total Stops  \\\n",
              "0              R C Church  Bandra Reclamation Bus Station           44   \n",
              "1      Colaba Bus Station                 Santacruz Depot           33   \n",
              "2           Hutatma Chowk       Ghatkopar Depot Caseurina           53   \n",
              "3  Ahilyabai Holkar Chowk          Ahilyabai Holkar Chowk           11   \n",
              "4            Colaba Depot                      Walkeshwar           26   \n",
              "\n",
              "          Travel Time  Route Distance (Km)  \\\n",
              "0   1 Hour 40 Minutes                 25.9   \n",
              "1   1 Hour 16 Minutes                  NaN   \n",
              "2    1 Hour 8 Minutes                 26.1   \n",
              "3          41 Minutes                  3.3   \n",
              "4          51 Minutes                  9.9   \n",
              "\n",
              "                                Start Timings from A  \\\n",
              "0   07:55, 08:17, 08:39, 09:01, 09:23, 09:45, 10:...   \n",
              "1                                                NA    \n",
              "2   08:03, 15:15, 15:57, 17:29, 18:16, 19:02, 19:...   \n",
              "3   08:30, 08:36, 08:42, 08:47, 08:51, 08:54, 08:...   \n",
              "4   06:45, 07:35, 08:06, 08:37, 09:08, 09:45, 10:...   \n",
              "\n",
              "                                Start Timings from B  \\\n",
              "0   06:30, 06:48, 07:06, 07:24, 07:42, 08:00, 08:...   \n",
              "1                                     Not Available    \n",
              "2   07:00, 07:32, 08:05, 08:37, 09:10, 09:42, 17:...   \n",
              "3                                                NaN   \n",
              "4   06:50, 07:20, 07:50, 08:20, 08:54, 09:28, 09:...   \n",
              "\n",
              "                                               Stops Bus number  \n",
              "0  [R C Church, Ins Ashwini Hospital, Pilot Bunde...         1   \n",
              "1  [Colaba Bus Station, Sasoon Dock, Strand Cinem...     1 LTD   \n",
              "2  [Hutatma Chowk, V B Phadke Chk Metro Dhobi Tal...    10 LTD   \n",
              "3  [Ahilyabai Holkar Chowk, Petroleum House, Jeev...       100   \n",
              "4  [Colaba Depot, Dr S P Mukherji Chowk Museum, H...       101   "
            ],
            "text/html": [
              "\n",
              "  <div id=\"df-f20c9170-6f3f-47ba-a451-f4fbcfc928a7\">\n",
              "    <div class=\"colab-df-container\">\n",
              "      <div>\n",
              "<style scoped>\n",
              "    .dataframe tbody tr th:only-of-type {\n",
              "        vertical-align: middle;\n",
              "    }\n",
              "\n",
              "    .dataframe tbody tr th {\n",
              "        vertical-align: top;\n",
              "    }\n",
              "\n",
              "    .dataframe thead th {\n",
              "        text-align: right;\n",
              "    }\n",
              "</style>\n",
              "<table border=\"1\" class=\"dataframe\">\n",
              "  <thead>\n",
              "    <tr style=\"text-align: right;\">\n",
              "      <th></th>\n",
              "      <th>Starting From</th>\n",
              "      <th>Destination</th>\n",
              "      <th>Total Stops</th>\n",
              "      <th>Travel Time</th>\n",
              "      <th>Route Distance (Km)</th>\n",
              "      <th>Start Timings from A</th>\n",
              "      <th>Start Timings from B</th>\n",
              "      <th>Stops</th>\n",
              "      <th>Bus number</th>\n",
              "    </tr>\n",
              "  </thead>\n",
              "  <tbody>\n",
              "    <tr>\n",
              "      <th>0</th>\n",
              "      <td>R C Church</td>\n",
              "      <td>Bandra Reclamation Bus Station</td>\n",
              "      <td>44</td>\n",
              "      <td>1 Hour 40 Minutes</td>\n",
              "      <td>25.9</td>\n",
              "      <td>07:55, 08:17, 08:39, 09:01, 09:23, 09:45, 10:...</td>\n",
              "      <td>06:30, 06:48, 07:06, 07:24, 07:42, 08:00, 08:...</td>\n",
              "      <td>[R C Church, Ins Ashwini Hospital, Pilot Bunde...</td>\n",
              "      <td>1</td>\n",
              "    </tr>\n",
              "    <tr>\n",
              "      <th>1</th>\n",
              "      <td>Colaba Bus Station</td>\n",
              "      <td>Santacruz Depot</td>\n",
              "      <td>33</td>\n",
              "      <td>1 Hour 16 Minutes</td>\n",
              "      <td>NaN</td>\n",
              "      <td>NA</td>\n",
              "      <td>Not Available</td>\n",
              "      <td>[Colaba Bus Station, Sasoon Dock, Strand Cinem...</td>\n",
              "      <td>1 LTD</td>\n",
              "    </tr>\n",
              "    <tr>\n",
              "      <th>2</th>\n",
              "      <td>Hutatma Chowk</td>\n",
              "      <td>Ghatkopar Depot Caseurina</td>\n",
              "      <td>53</td>\n",
              "      <td>1 Hour 8 Minutes</td>\n",
              "      <td>26.1</td>\n",
              "      <td>08:03, 15:15, 15:57, 17:29, 18:16, 19:02, 19:...</td>\n",
              "      <td>07:00, 07:32, 08:05, 08:37, 09:10, 09:42, 17:...</td>\n",
              "      <td>[Hutatma Chowk, V B Phadke Chk Metro Dhobi Tal...</td>\n",
              "      <td>10 LTD</td>\n",
              "    </tr>\n",
              "    <tr>\n",
              "      <th>3</th>\n",
              "      <td>Ahilyabai Holkar Chowk</td>\n",
              "      <td>Ahilyabai Holkar Chowk</td>\n",
              "      <td>11</td>\n",
              "      <td>41 Minutes</td>\n",
              "      <td>3.3</td>\n",
              "      <td>08:30, 08:36, 08:42, 08:47, 08:51, 08:54, 08:...</td>\n",
              "      <td>NaN</td>\n",
              "      <td>[Ahilyabai Holkar Chowk, Petroleum House, Jeev...</td>\n",
              "      <td>100</td>\n",
              "    </tr>\n",
              "    <tr>\n",
              "      <th>4</th>\n",
              "      <td>Colaba Depot</td>\n",
              "      <td>Walkeshwar</td>\n",
              "      <td>26</td>\n",
              "      <td>51 Minutes</td>\n",
              "      <td>9.9</td>\n",
              "      <td>06:45, 07:35, 08:06, 08:37, 09:08, 09:45, 10:...</td>\n",
              "      <td>06:50, 07:20, 07:50, 08:20, 08:54, 09:28, 09:...</td>\n",
              "      <td>[Colaba Depot, Dr S P Mukherji Chowk Museum, H...</td>\n",
              "      <td>101</td>\n",
              "    </tr>\n",
              "  </tbody>\n",
              "</table>\n",
              "</div>\n",
              "      <button class=\"colab-df-convert\" onclick=\"convertToInteractive('df-f20c9170-6f3f-47ba-a451-f4fbcfc928a7')\"\n",
              "              title=\"Convert this dataframe to an interactive table.\"\n",
              "              style=\"display:none;\">\n",
              "        \n",
              "  <svg xmlns=\"http://www.w3.org/2000/svg\" height=\"24px\"viewBox=\"0 0 24 24\"\n",
              "       width=\"24px\">\n",
              "    <path d=\"M0 0h24v24H0V0z\" fill=\"none\"/>\n",
              "    <path d=\"M18.56 5.44l.94 2.06.94-2.06 2.06-.94-2.06-.94-.94-2.06-.94 2.06-2.06.94zm-11 1L8.5 8.5l.94-2.06 2.06-.94-2.06-.94L8.5 2.5l-.94 2.06-2.06.94zm10 10l.94 2.06.94-2.06 2.06-.94-2.06-.94-.94-2.06-.94 2.06-2.06.94z\"/><path d=\"M17.41 7.96l-1.37-1.37c-.4-.4-.92-.59-1.43-.59-.52 0-1.04.2-1.43.59L10.3 9.45l-7.72 7.72c-.78.78-.78 2.05 0 2.83L4 21.41c.39.39.9.59 1.41.59.51 0 1.02-.2 1.41-.59l7.78-7.78 2.81-2.81c.8-.78.8-2.07 0-2.86zM5.41 20L4 18.59l7.72-7.72 1.47 1.35L5.41 20z\"/>\n",
              "  </svg>\n",
              "      </button>\n",
              "      \n",
              "  <style>\n",
              "    .colab-df-container {\n",
              "      display:flex;\n",
              "      flex-wrap:wrap;\n",
              "      gap: 12px;\n",
              "    }\n",
              "\n",
              "    .colab-df-convert {\n",
              "      background-color: #E8F0FE;\n",
              "      border: none;\n",
              "      border-radius: 50%;\n",
              "      cursor: pointer;\n",
              "      display: none;\n",
              "      fill: #1967D2;\n",
              "      height: 32px;\n",
              "      padding: 0 0 0 0;\n",
              "      width: 32px;\n",
              "    }\n",
              "\n",
              "    .colab-df-convert:hover {\n",
              "      background-color: #E2EBFA;\n",
              "      box-shadow: 0px 1px 2px rgba(60, 64, 67, 0.3), 0px 1px 3px 1px rgba(60, 64, 67, 0.15);\n",
              "      fill: #174EA6;\n",
              "    }\n",
              "\n",
              "    [theme=dark] .colab-df-convert {\n",
              "      background-color: #3B4455;\n",
              "      fill: #D2E3FC;\n",
              "    }\n",
              "\n",
              "    [theme=dark] .colab-df-convert:hover {\n",
              "      background-color: #434B5C;\n",
              "      box-shadow: 0px 1px 3px 1px rgba(0, 0, 0, 0.15);\n",
              "      filter: drop-shadow(0px 1px 2px rgba(0, 0, 0, 0.3));\n",
              "      fill: #FFFFFF;\n",
              "    }\n",
              "  </style>\n",
              "\n",
              "      <script>\n",
              "        const buttonEl =\n",
              "          document.querySelector('#df-f20c9170-6f3f-47ba-a451-f4fbcfc928a7 button.colab-df-convert');\n",
              "        buttonEl.style.display =\n",
              "          google.colab.kernel.accessAllowed ? 'block' : 'none';\n",
              "\n",
              "        async function convertToInteractive(key) {\n",
              "          const element = document.querySelector('#df-f20c9170-6f3f-47ba-a451-f4fbcfc928a7');\n",
              "          const dataTable =\n",
              "            await google.colab.kernel.invokeFunction('convertToInteractive',\n",
              "                                                     [key], {});\n",
              "          if (!dataTable) return;\n",
              "\n",
              "          const docLinkHtml = 'Like what you see? Visit the ' +\n",
              "            '<a target=\"_blank\" href=https://colab.research.google.com/notebooks/data_table.ipynb>data table notebook</a>'\n",
              "            + ' to learn more about interactive tables.';\n",
              "          element.innerHTML = '';\n",
              "          dataTable['output_type'] = 'display_data';\n",
              "          await google.colab.output.renderOutput(dataTable, element);\n",
              "          const docLink = document.createElement('div');\n",
              "          docLink.innerHTML = docLinkHtml;\n",
              "          element.appendChild(docLink);\n",
              "        }\n",
              "      </script>\n",
              "    </div>\n",
              "  </div>\n",
              "  "
            ]
          },
          "metadata": {},
          "execution_count": 4
        }
      ]
    },
    {
      "cell_type": "code",
      "source": [
        "\n",
        "for idx,row in routes.iterrows():\n",
        "  previous_stop = None\n",
        "  for i in row['Stops']:\n",
        "    if previous_stop == i:\n",
        "      row['Stops'].remove(i)\n",
        "    previous_stop = i"
      ],
      "metadata": {
        "id": "YirvYIdwsRM6"
      },
      "execution_count": 5,
      "outputs": []
    },
    {
      "cell_type": "code",
      "source": [
        "corrections = {'MPSC/UPSC TRAINING CENTRE BANDRA': 'MPSCUPSC TRAINING CENTRE BANDRA','RUSHI COMPLEX EXTENSION DAHISAR W': 'RUSHI COMPLEX EXTENSION DAHISAR - W','SANTACRUZ STATION E': 'SANTACRUZ STATION EAST','TERNA ENGINEERING COLLEGE KHAIRANE' : 'TERNA ENGINEERING COLLEGE','MITH CHOWKY MALAD':  'MITH CHOWK MALAD','KURLA STATION W' : 'KURLA STATION WEST','MAHIM PHATAK EAST' : 'MAHIM PHATAK'}\n",
        "for idx,row in routes.iterrows():\n",
        "  for i in range(len(row['Stops'])):\n",
        "    if row['Stops'][i].upper() in corrections.keys():\n",
        "      row['Stops'][i] = corrections[row['Stops'][i].upper()]"
      ],
      "metadata": {
        "id": "PzEFwPTItiH_"
      },
      "execution_count": 6,
      "outputs": []
    },
    {
      "cell_type": "markdown",
      "source": [
        "### Dataframe analysis\n",
        "\n",
        "Many Bus routes in Mumbai run from suburban railway stations to sort of distant parts of the city. Suburban railway is still the most used public transport in the city and it mainly runs on 2 lines called 'Central Line' and \"Western Line'. There is also a third called 'Harbour Line' which connects Navi Mumbai. As it is a faster mode of travel, usually a lot of bus routes tend to start from these suburban railway stations to outer parts of the city which can be reflected by the basic frequency counting of Sources and Destinations."
      ],
      "metadata": {
        "id": "jdYuCEsyiE-P"
      }
    },
    {
      "cell_type": "code",
      "source": [
        "sources = {}\n",
        "starts = routes['Starting From'].value_counts()\n",
        "for name, count in starts.items():\n",
        "  if name not in sources.keys():\n",
        "    sources[name] = count\n",
        "  else:\n",
        "    sources[name] += count\n",
        "\n",
        "ends = routes['Destination'].value_counts()\n",
        "for name, count in starts.items():\n",
        "  if name not in sources.keys():\n",
        "    sources[name] = count\n",
        "  else:\n",
        "    sources[name] += count\n",
        "\n",
        "print('Top 5 sources:')\n",
        "print(sorted(sources.items(),key=lambda x:x[1],reverse=True)[:5])"
      ],
      "metadata": {
        "colab": {
          "base_uri": "https://localhost:8080/"
        },
        "id": "n6X02jx_hc5o",
        "outputId": "579703e7-d2a1-452b-bb3f-f380dd53cc48"
      },
      "execution_count": 7,
      "outputs": [
        {
          "output_type": "stream",
          "name": "stdout",
          "text": [
            "Top 5 sources:\n",
            "[('Kurla Station West', 34), ('Ghatkopar Depot Caseurina', 32), ('Andheri Station West', 30), ('Agarkar Chowk', 28), ('Mantralaya', 28)]\n"
          ]
        }
      ]
    },
    {
      "cell_type": "markdown",
      "source": [
        "We will take a look as to why these are the more common sources in location based analysis"
      ],
      "metadata": {
        "id": "C2_li11-ufxa"
      }
    },
    {
      "cell_type": "markdown",
      "source": [
        "### Graph Creation\n",
        "As these are routes, hence they have a specific direction. Also as the bus can start from source as well as the destination, the reverse journey from destination to source can also be considered as a route, thus the network created is an undirected graph.  \n",
        "We create a graph with the nodes being the Stops and they are linked by edges based on the routes.  \n",
        "Here a 'count' attribute is also added to each node and edge which for a node signifies how many routes pass through it and or an edge signifies on how many bus routes does that edge lies. Thus becomes an important attribute to find the more important locations on the network.  "
      ],
      "metadata": {
        "id": "i3umlnPRc9YE"
      }
    },
    {
      "cell_type": "code",
      "source": [
        "G = nx.Graph()\n",
        "paths = routes['Stops'].tolist()\n",
        "for path in paths:\n",
        "  for i in path:\n",
        "    if i.upper() not in G.nodes():\n",
        "      G.add_node(i.upper(),count=1)\n",
        "    else:\n",
        "      G.nodes[i.upper()]['count'] += 1\n",
        "for path in paths:\n",
        "  for i,j in zip(path[:-1],path[1:]):\n",
        "    if (i.upper(),j.upper()) in G.edges() or (j.upper(),i.upper()) in G.edges():\n",
        "      G[i.upper()][j.upper()]['count'] += 1\n",
        "    else:\n",
        "      G.add_edge(i.upper(),j.upper(),count=1)"
      ],
      "metadata": {
        "id": "MnCb4oWgAmU8"
      },
      "execution_count": 8,
      "outputs": []
    },
    {
      "cell_type": "markdown",
      "source": [
        "### Some basic Network analysis\n",
        "This includes some analysis purely done on the basis of the graph network created. Geographical analysis would be done in a separate notebook for now.  \n",
        "Network based analysis means we will try to study how the structure of the network is without giving importance to where the node is positioned ie. irrespective of the geographical aspect.  \n",
        "\n",
        "#### Connectivity\n",
        "To begin with, we will check whether there is any disconnected route in the network. By disconnected we mean any route which is not connected to any other route on the network. "
      ],
      "metadata": {
        "id": "7LOeGUhYfdLI"
      }
    },
    {
      "cell_type": "code",
      "source": [
        "nx.is_connected(G)"
      ],
      "metadata": {
        "colab": {
          "base_uri": "https://localhost:8080/"
        },
        "id": "sqpuKHHsfd6e",
        "outputId": "92762e9f-7161-4954-c93e-fce8b04357c7"
      },
      "execution_count": 9,
      "outputs": [
        {
          "output_type": "execute_result",
          "data": {
            "text/plain": [
              "True"
            ]
          },
          "metadata": {},
          "execution_count": 9
        }
      ]
    },
    {
      "cell_type": "markdown",
      "source": [
        "Thus our network is strongly connected which means you can go from any stop to any other stop in the network.\n",
        "\n",
        "#### Node degree\n",
        "Degree is the number of neighbors a node has. A neighbor is defined as a node which has a direct edge with the node of interest. Usually, higher the node degree, more important it is considered. We plot a histogram of the node degree to have an overall understanding of this metric."
      ],
      "metadata": {
        "id": "Z6G4qrdLl-ba"
      }
    },
    {
      "cell_type": "code",
      "source": [
        "node_degrees = {}\n",
        "for node in G.nodes():\n",
        "  node_degrees[node] = G.degree(node)\n",
        "sns.histplot(list(node_degrees.values()),bins=14)"
      ],
      "metadata": {
        "colab": {
          "base_uri": "https://localhost:8080/",
          "height": 447
        },
        "id": "BdMIJNFVjkJx",
        "outputId": "e33a3b7b-b945-46e5-a05c-c73d10323d39"
      },
      "execution_count": 10,
      "outputs": [
        {
          "output_type": "execute_result",
          "data": {
            "text/plain": [
              "<Axes: ylabel='Count'>"
            ]
          },
          "metadata": {},
          "execution_count": 10
        },
        {
          "output_type": "display_data",
          "data": {
            "text/plain": [
              "<Figure size 640x480 with 1 Axes>"
            ],
            "image/png": "[encoded data removed]"
          },
          "metadata": {}
        }
      ]
    },
    {
      "cell_type": "markdown",
      "source": [
        "From the plot we can see many of the nodes have degree 2 which kind of means many that many of the stops appear mostly on a single route. Even though the degree is 2, it doesn't means there is only 1 bus passing through the route. Thus to find this we use the attribute 'count' which is associated with each node while building the graph"
      ],
      "metadata": {
        "id": "OtzW-hQ8oPXx"
      }
    },
    {
      "cell_type": "code",
      "source": [
        "node_count_frequency = nx.get_node_attributes(G,'count')\n",
        "edge_count_frequency = nx.get_edge_attributes(G,'count')\n",
        "\n",
        "print('Highest node count:', max(node_count_frequency.items(),key=lambda x:x[1]))\n",
        "print('Highest edge count:', max(edge_count_frequency.items(),key=lambda x:x[1]))\n",
        "\n",
        "plt.subplot(1,2,1)\n",
        "sns.histplot(list(node_count_frequency.values()),bins=20)\n",
        "plt.title('Node count')\n",
        "\n",
        "plt.subplot(1,2,2)\n",
        "sns.histplot(list(edge_count_frequency.values()),bins=20)\n",
        "plt.title('Edge count')"
      ],
      "metadata": {
        "colab": {
          "base_uri": "https://localhost:8080/",
          "height": 504
        },
        "id": "pu6TgYaLotrO",
        "outputId": "655ebd1f-238a-4f75-ae8b-43c53c76287e"
      },
      "execution_count": 11,
      "outputs": [
        {
          "output_type": "stream",
          "name": "stdout",
          "text": [
            "Highest node count: ('KHODADAD CIRCLE', 76)\n",
            "Highest edge count: (('GANDHI MARKET MATUNGA', 'LOKMANYA TILAK HOSPITAL'), 42)\n"
          ]
        },
        {
          "output_type": "execute_result",
          "data": {
            "text/plain": [
              "Text(0.5, 1.0, 'Edge count')"
            ]
          },
          "metadata": {},
          "execution_count": 11
        },
        {
          "output_type": "display_data",
          "data": {
            "text/plain": [
              "<Figure size 640x480 with 2 Axes>"
            ],
            "image/png": "[encoded data removed]"
          },
          "metadata": {}
        }
      ]
    },
    {
      "cell_type": "markdown",
      "source": [
        "As it can be seen, many nodes have count 1 and it gradually decreases with values going as high as 76 for 'Khodadad Circle'. This stop has highest number of bus routes halting at the stop. We will take a look at the reason behind this in the geographical analysis notebook.  \n",
        "Similarly for the edges, the maximum count is 42 between 'Gandhi Market, Matunga' and 'Lokmanya Tilak Hospital'.  \n",
        "Many of the nodes and edges here also lie around the neighboring cities of Mumbai, this is one reason to why we have a big number of nodes and edges with the count 1, as they probably have less buses on the route, to be precise only 1. \n",
        "\n",
        "#### Eccentricity\n",
        "Eccentricity is the maximum distance between a node and all other nodes. Essentially, for any stop in network it finds the number of stops (nodes) between the stop of interest and the stop farthest from it. We plot a histogram of the eccentricities.  \n"
      ],
      "metadata": {
        "id": "vqyj_I1nLtal"
      }
    },
    {
      "cell_type": "code",
      "source": [
        "eccentricity = nx.eccentricity(G)\n",
        "sns.histplot(list(eccentricity.values()),bins=10)\n",
        "print('Maximum Eccentricity of network',max(eccentricity.values()))\n",
        "print('Minimum Eccentricity of network',min(eccentricity.values()))"
      ],
      "metadata": {
        "colab": {
          "base_uri": "https://localhost:8080/",
          "height": 465
        },
        "id": "s1gkU6rXLs5w",
        "outputId": "d4e952ac-10bb-4fc2-d6ae-8a4e9c22d3d1"
      },
      "execution_count": 12,
      "outputs": [
        {
          "output_type": "stream",
          "name": "stdout",
          "text": [
            "Maximum Eccentricity of network 73\n",
            "Minimum Eccentricity of network 37\n"
          ]
        },
        {
          "output_type": "display_data",
          "data": {
            "text/plain": [
              "<Figure size 640x480 with 1 Axes>"
            ],
            "image/png": "[encoded data removed]"
          },
          "metadata": {}
        }
      ]
    },
    {
      "cell_type": "markdown",
      "source": [
        "Much of the eccentricity value lies in the range of 40 to 50. For some nodes on the outskirts and which go in the neighboring satellite cities of Navi Mumbai, Thane and Mira-Bhayander, the eccentricity value is higher.  \n",
        "\n",
        "#### Diameter and Radius\n",
        "These 2 exists only if the network is connected (there is path from every node to every other node)\n",
        "Diameter is the maximum distance between any pair of nodes which means it is the distance between the most distant nodes. In terms of eccentrictity, the maximum eccentrictiy of a network is its diameter.  \n",
        "Talking in terms of non technical terms, Diameter is the longest route (with respect to number of stations) in the transport network between any two stops.  \n",
        "Radius is the minimum eccentricity of the network. It is basically the minimum distance amongst the maximum distances between any pair of nodes.  \n",
        "\n",
        "\n",
        "\n"
      ],
      "metadata": {
        "id": "DSOVnZ4pxX-I"
      }
    },
    {
      "cell_type": "code",
      "source": [
        "diameter = nx.diameter(G)\n",
        "radius = nx.radius(G)\n",
        "print('diameter:',diameter)\n",
        "print('radius:',radius)"
      ],
      "metadata": {
        "id": "AlX5gkGFxYeL",
        "colab": {
          "base_uri": "https://localhost:8080/"
        },
        "outputId": "cea66ca7-c057-4fc5-981a-1fd64e0bc020"
      },
      "execution_count": 13,
      "outputs": [
        {
          "output_type": "stream",
          "name": "stdout",
          "text": [
            "diameter: 73\n",
            "radius: 37\n"
          ]
        }
      ]
    },
    {
      "cell_type": "markdown",
      "source": [
        "#### Average Shortest Path Length\n",
        "This represents the average shortest path length between all pair of nodes. "
      ],
      "metadata": {
        "id": "-1V_9ZCOVJ2W"
      }
    },
    {
      "cell_type": "code",
      "source": [
        "nx.average_shortest_path_length(G)"
      ],
      "metadata": {
        "colab": {
          "base_uri": "https://localhost:8080/"
        },
        "id": "s1iA8TyFYxYU",
        "outputId": "be0c5b0a-bad1-42f9-e5fa-ff63a18920cc"
      },
      "execution_count": 14,
      "outputs": [
        {
          "output_type": "execute_result",
          "data": {
            "text/plain": [
              "16.379943277556016"
            ]
          },
          "metadata": {},
          "execution_count": 14
        }
      ]
    },
    {
      "cell_type": "markdown",
      "source": [
        "The average is smaller as compared to the diameter of the graph. This gives an idea that the many nodes are located close to each other. This can be correlated to the major number of bus stops located in and around central Mumbai where there are many business complexes situated.  \n",
        "\n",
        "In overall, this is a general network analysis of the Mumbai public bus transport system.\n"
      ],
      "metadata": {
        "id": "7gpf83Z4dH4k"
      }
    }
  ]
}